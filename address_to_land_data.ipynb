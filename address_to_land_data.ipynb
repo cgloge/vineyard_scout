{
 "cells": [
  {
   "cell_type": "markdown",
   "metadata": {},
   "source": [
    "# Grab historical weather data & elevation form addresses in California"
   ]
  },
  {
   "cell_type": "code",
   "execution_count": 5,
   "metadata": {},
   "outputs": [],
   "source": [
    "#Import custom Google Maps and Weatherbit utlity functions\n",
    "from utility import *\n",
    "\n",
    "import pandas as pd\n",
    "from tabulate import tabulate\n",
    "import time\n",
    "from datetime import timedelta"
   ]
  },
  {
   "cell_type": "markdown",
   "metadata": {},
   "source": [
    "## Import csv of California vineyard locations\n",
    "http://www.discovercaliforniawines.com provides a directory of vineyards in California. I used this directory to collect addresses of vineyards around California. \n",
    "\n",
    "Some of the addresses listed were showrooms, so I filtered those out of the list since we only want to collect information on where the grapes are grown.\n",
    "\n",
    "## Adding in non-vineyards\n",
    "I then added in addresses of locations in California which aren't vineyards. I realize that this isn't perfect because a **certain location might be great for a vineyard, but just doesn't happen to have one located there.** Because of this, I don't expect my model to reach extremley high accuracy results because the data will be a bit noisy. "
   ]
  },
  {
   "cell_type": "code",
   "execution_count": 6,
   "metadata": {},
   "outputs": [
    {
     "name": "stdout",
     "output_type": "stream",
     "text": [
      "+-----+-----------+---------------------------------+-------------------------------------------------------+\n",
      "|     |   Address | IsVineyard                      | Name                                                  |\n",
      "+=====+===========+=================================+=======================================================+\n",
      "| 842 |         1 | Talley Vineyards                | 3031 Lopez Drive, Arroyo Grande, CA 93420             |\n",
      "+-----+-----------+---------------------------------+-------------------------------------------------------+\n",
      "| 149 |         0 | nan                             | 16186 Candace Ln, Nevada City, CA 95959               |\n",
      "+-----+-----------+---------------------------------+-------------------------------------------------------+\n",
      "| 420 |         0 | nan                             | 40633 Little River Airport Rd, Little River, CA 95456 |\n",
      "+-----+-----------+---------------------------------+-------------------------------------------------------+\n",
      "| 571 |         1 | David Coffaro Vineyard & Winery | 7485 Dry Creek Road, Geyserville, CA 95441            |\n",
      "+-----+-----------+---------------------------------+-------------------------------------------------------+\n",
      "| 261 |         0 | nan                             | 00 Lake Shasta, Redding, CA 96003                     |\n",
      "+-----+-----------+---------------------------------+-------------------------------------------------------+\n",
      "| 165 |         0 | nan                             | 13350 Pine Ave, Potter Valley, CA 95469               |\n",
      "+-----+-----------+---------------------------------+-------------------------------------------------------+\n",
      "| 583 |         1 | Dover Canyon Winery             | 4520 Vineyard Drive, Paso Robles, CA 93446            |\n",
      "+-----+-----------+---------------------------------+-------------------------------------------------------+\n",
      "| 137 |         0 | nan                             | 171 Jenny Ln, Mariposa, CA 95338                      |\n",
      "+-----+-----------+---------------------------------+-------------------------------------------------------+\n",
      "| 821 |         1 | Solune Winegrowers              | 16303 Jewett Lane, Grass Valley, CA 95945             |\n",
      "+-----+-----------+---------------------------------+-------------------------------------------------------+\n",
      "| 713 |         1 | Minassian-Young Vineyards       | 4045 Peachy Canyon Road, Paso Robles, CA 93446        |\n",
      "+-----+-----------+---------------------------------+-------------------------------------------------------+\n"
     ]
    }
   ],
   "source": [
    "#Import the csv of addresses (shuffle the rows)\n",
    "address_df = pd.read_csv('california_vineyards.csv', encoding='cp1252').sample(frac=1)\n",
    "\n",
    "#Pretty print the address dataframe\n",
    "print(tabulate(address_df.head(10), headers=['Address', 'IsVineyard', 'Name'], tablefmt= 'grid'))\n",
    "\n",
    "#Split dataframe into a training & test set\n",
    "train_df = address_df[0:-30]\n",
    "test_df = address_df[-30:]"
   ]
  },
  {
   "cell_type": "markdown",
   "metadata": {},
   "source": [
    "# Use Google Maps & WeatherBit APIs to gather data on addresses\n",
    "Note that both these APIs have rate limits. To run this yourself, you'll need to reduce the number of addresses passed to the land_data() function or upgrade from basic accounts with Google Maps & Weatherbit."
   ]
  },
  {
   "cell_type": "markdown",
   "metadata": {},
   "source": [
    "## Google Maps data collected\n",
    "* Latitude & longitude\n",
    "* Matrix of elevation points based on 1km area around latitude & longitude coordinates\n",
    "\n",
    "## Weatherbit data collected\n",
    "* Wind direction\n",
    "* Wind speed\n",
    "* Precipitation\n",
    "* Average temperature\n",
    "* Minimum temperature\n",
    "* Max temperature\n",
    "* Cloud coverage\n",
    "* GHI (Global Horizontal Irradiance) - aka solar radiation\n",
    "* RH (Relative humidity)"
   ]
  },
  {
   "cell_type": "code",
   "execution_count": 7,
   "metadata": {},
   "outputs": [],
   "source": [
    "def land_data(df):\n",
    "    import numpy as np\n",
    "    year_offset = timedelta(days=364) #I know, I know, there aren't 364 days in a year, but this accounts for leapyears + my limited 1year of historical data\n",
    "    end_date = pd.to_datetime('today')\n",
    "    start_date = end_date - year_offset\n",
    "\n",
    "    #1-year of dates as list\n",
    "    d = pd.date_range(start=start_date, end=end_date, freq='D')\n",
    "\n",
    "    #A variable to store the last date to use in the range of the weather api data\n",
    "    last_date_str = 0\n",
    "\n",
    "    #Initialize np.arrays variables which will eventually be fed into our keras model\n",
    "    is_vineyard = np.array([])\n",
    "    elevation = np.array([])\n",
    "    map_coords = np.array([])\n",
    "    wind_dir = np.array([])\n",
    "    wind_spd = np.array([])\n",
    "    precip = np.array([])\n",
    "    temp = np.array([])\n",
    "    min_temp = np.array([])\n",
    "    max_temp = np.array([])\n",
    "    clouds = np.array([])\n",
    "    ghi = np.array([])\n",
    "    rh = np.array([])\n",
    "\n",
    "    for index, row in df.iterrows():\n",
    "        address = row['Address']\n",
    "        print('Collecting data for address: ' + str(address))\n",
    "\n",
    "        #Get numerical latitute and longitude values\n",
    "        lat, lng = lat_lng(address)\n",
    "\n",
    "        #Create blank arrays to store weather data for each address\n",
    "        address_wind_dir = np.array([])\n",
    "        address_wind_spd = np.array([])\n",
    "        address_precip = np.array([])\n",
    "        address_temp = np.array([])\n",
    "        address_min_temp = np.array([])\n",
    "        address_max_temp = np.array([])\n",
    "        address_clouds = np.array([])\n",
    "        address_ghi = np.array([])\n",
    "        address_rh = np.array([])\n",
    "\n",
    "        #Collect weather data for all dates over the last year\n",
    "        for date in d[:]:\n",
    "\n",
    "            #format the date as a string - truncate to the first 10 characters\n",
    "            date_str = str(date)[:10]  \n",
    "\n",
    "            #Get day as int\n",
    "            day = int(date_str[-2:])\n",
    "\n",
    "            #Grab data every 5 days\n",
    "            skip_days = 5\n",
    "\n",
    "            #Only grab digits if they\n",
    "            if ((last_date_str != 0) & (day % skip_days == 0)):\n",
    "\n",
    "                #Get a dictionary of weather data based off a day\n",
    "                weather_data = weather_hist(last_date_str, date_str, lat, lng)\n",
    "\n",
    "                #Grab elements from the weather_data dictionary\n",
    "                address_wind_dir = np.append(address_wind_dir, weather_data.get('wind_dir'))\n",
    "                address_wind_spd = np.append(address_wind_spd, weather_data.get('wind_spd'))\n",
    "                address_precip = np.append(address_precip, weather_data.get('precip'))\n",
    "                address_temp = np.append(address_temp, weather_data.get('temp'))\n",
    "                address_min_temp = np.append(address_min_temp, weather_data.get('min_temp'))\n",
    "                address_max_temp = np.append(address_max_temp, weather_data.get('max_temp'))\n",
    "                address_clouds = np.append(address_clouds, weather_data.get('clouds'))\n",
    "                address_ghi = np.append(address_ghi, weather_data.get('ghi'))\n",
    "                address_rh = np.append(address_rh, weather_data.get('rh'))\n",
    "\n",
    "            #Save this date to be used as the start date for the next API call\n",
    "            last_date_str = date_str\n",
    "\n",
    "        last_date_str = 0\n",
    "\n",
    "        #Append boolean is_vineyard value to an array which will be our dependant variable into our model \n",
    "        is_vineyard = np.append(is_vineyard, row['Vineyard'])   \n",
    "\n",
    "        #Append matrix of elevation points for lat long values\n",
    "        if(len(elevation) == 0):\n",
    "            elevation = np.array([elevation_matrix(lat, lng)])\n",
    "        else:\n",
    "            elevation = np.concatenate([elevation, np.array([elevation_matrix(lat, lng)])], axis=0)\n",
    "\n",
    "        #Append latitude & longitude values to an array which we'll feed into our model \n",
    "        if(len(map_coords) == 0):\n",
    "            map_coords = (np.array([lat,lng]))\n",
    "        else:\n",
    "            map_coords = np.vstack([map_coords,np.array([lat,lng])])\n",
    "\n",
    "        #Append each address's weather data to arrays which we'll feed into our model\n",
    "        if(len(wind_dir) == 0):\n",
    "            wind_dir = ([address_wind_dir])\n",
    "        else:\n",
    "            wind_dir = np.vstack([wind_dir,address_wind_dir])\n",
    "\n",
    "        if(len(wind_spd) == 0):\n",
    "            wind_spd = ([address_wind_spd])\n",
    "        else:\n",
    "            wind_spd = np.vstack([wind_spd,address_wind_spd]) \n",
    "\n",
    "        if(len(precip) == 0):\n",
    "            precip = ([address_precip])        \n",
    "        else:\n",
    "            precip = np.vstack([precip,address_precip]) \n",
    "\n",
    "        if(len(temp) == 0):\n",
    "            temp = ([address_temp])\n",
    "        else:\n",
    "            temp = np.vstack([temp,address_temp]) \n",
    "\n",
    "        if(len(min_temp) == 0):\n",
    "            min_temp = ([address_min_temp])\n",
    "        else:\n",
    "            min_temp = np.vstack([min_temp,address_min_temp])\n",
    "\n",
    "        if(len(max_temp) == 0):\n",
    "            max_temp = ([address_max_temp])\n",
    "        else:\n",
    "            max_temp = np.vstack([max_temp,address_max_temp]) \n",
    "\n",
    "        if(len(clouds) == 0):\n",
    "            clouds = ([address_clouds])\n",
    "        else:\n",
    "            clouds = np.vstack([clouds,address_clouds]) \n",
    "\n",
    "        if(len(ghi) == 0):\n",
    "            ghi = ([address_ghi])\n",
    "        else:\n",
    "            ghi = np.vstack([ghi,address_ghi])\n",
    "\n",
    "        if(len(rh) == 0):\n",
    "            rh = ([address_rh])\n",
    "        else:\n",
    "            rh = np.vstack([rh,address_rh])\n",
    "    \n",
    "    #Return variables\n",
    "    return is_vineyard, map_coords, elevation, wind_dir, wind_spd, precip, temp, min_temp, max_temp, clouds, ghi, rh"
   ]
  },
  {
   "cell_type": "code",
   "execution_count": 8,
   "metadata": {},
   "outputs": [
    {
     "name": "stdout",
     "output_type": "stream",
     "text": [
      "Collecting data for address: 3031 Lopez Drive, Arroyo Grande, CA 93420\n",
      "Collecting data for address: 16186 Candace Ln, Nevada City, CA 95959\n",
      "Collecting data for address: 40633 Little River Airport Rd, Little River, CA 95456\n"
     ]
    },
    {
     "ename": "KeyboardInterrupt",
     "evalue": "",
     "output_type": "error",
     "traceback": [
      "\u001b[0;31m---------------------------------------------------------------------------\u001b[0m",
      "\u001b[0;31mTypeError\u001b[0m                                 Traceback (most recent call last)",
      "\u001b[0;32m/Library/Frameworks/Python.framework/Versions/3.6/lib/python3.6/site-packages/urllib3/connectionpool.py\u001b[0m in \u001b[0;36m_make_request\u001b[0;34m(self, conn, method, url, timeout, chunked, **httplib_request_kw)\u001b[0m\n\u001b[1;32m    379\u001b[0m             \u001b[0;32mtry\u001b[0m\u001b[0;34m:\u001b[0m  \u001b[0;31m# Python 2.7, use buffering of HTTP responses\u001b[0m\u001b[0;34m\u001b[0m\u001b[0m\n\u001b[0;32m--> 380\u001b[0;31m                 \u001b[0mhttplib_response\u001b[0m \u001b[0;34m=\u001b[0m \u001b[0mconn\u001b[0m\u001b[0;34m.\u001b[0m\u001b[0mgetresponse\u001b[0m\u001b[0;34m(\u001b[0m\u001b[0mbuffering\u001b[0m\u001b[0;34m=\u001b[0m\u001b[0;32mTrue\u001b[0m\u001b[0;34m)\u001b[0m\u001b[0;34m\u001b[0m\u001b[0m\n\u001b[0m\u001b[1;32m    381\u001b[0m             \u001b[0;32mexcept\u001b[0m \u001b[0mTypeError\u001b[0m\u001b[0;34m:\u001b[0m  \u001b[0;31m# Python 2.6 and older, Python 3\u001b[0m\u001b[0;34m\u001b[0m\u001b[0m\n",
      "\u001b[0;31mTypeError\u001b[0m: getresponse() got an unexpected keyword argument 'buffering'",
      "\nDuring handling of the above exception, another exception occurred:\n",
      "\u001b[0;31mKeyboardInterrupt\u001b[0m                         Traceback (most recent call last)",
      "\u001b[0;32m<ipython-input-8-be809f25f1de>\u001b[0m in \u001b[0;36m<module>\u001b[0;34m()\u001b[0m\n\u001b[0;32m----> 1\u001b[0;31m \u001b[0mis_vineyard_train\u001b[0m\u001b[0;34m,\u001b[0m \u001b[0mmap_coords_train\u001b[0m\u001b[0;34m,\u001b[0m \u001b[0melevation_train\u001b[0m\u001b[0;34m,\u001b[0m \u001b[0mwind_dir_train\u001b[0m\u001b[0;34m,\u001b[0m \u001b[0mwind_spd_train\u001b[0m\u001b[0;34m,\u001b[0m \u001b[0mprecip_train\u001b[0m\u001b[0;34m,\u001b[0m \u001b[0mtemp_train\u001b[0m\u001b[0;34m,\u001b[0m \u001b[0mmin_temp_train\u001b[0m\u001b[0;34m,\u001b[0m \u001b[0mmax_temp_train\u001b[0m\u001b[0;34m,\u001b[0m \u001b[0mclouds_train\u001b[0m\u001b[0;34m,\u001b[0m \u001b[0mghi_train\u001b[0m\u001b[0;34m,\u001b[0m \u001b[0mrh_train\u001b[0m \u001b[0;34m=\u001b[0m \u001b[0mland_data\u001b[0m\u001b[0;34m(\u001b[0m\u001b[0mtrain_df\u001b[0m\u001b[0;34m)\u001b[0m\u001b[0;34m\u001b[0m\u001b[0m\n\u001b[0m",
      "\u001b[0;32m<ipython-input-7-77bdb82085b0>\u001b[0m in \u001b[0;36mland_data\u001b[0;34m(df)\u001b[0m\n\u001b[1;32m     59\u001b[0m \u001b[0;34m\u001b[0m\u001b[0m\n\u001b[1;32m     60\u001b[0m                 \u001b[0;31m#Get a dictionary of weather data based off a day\u001b[0m\u001b[0;34m\u001b[0m\u001b[0;34m\u001b[0m\u001b[0m\n\u001b[0;32m---> 61\u001b[0;31m                 \u001b[0mweather_data\u001b[0m \u001b[0;34m=\u001b[0m \u001b[0mweather_hist\u001b[0m\u001b[0;34m(\u001b[0m\u001b[0mlast_date_str\u001b[0m\u001b[0;34m,\u001b[0m \u001b[0mdate_str\u001b[0m\u001b[0;34m,\u001b[0m \u001b[0mlat\u001b[0m\u001b[0;34m,\u001b[0m \u001b[0mlng\u001b[0m\u001b[0;34m)\u001b[0m\u001b[0;34m\u001b[0m\u001b[0m\n\u001b[0m\u001b[1;32m     62\u001b[0m \u001b[0;34m\u001b[0m\u001b[0m\n\u001b[1;32m     63\u001b[0m                 \u001b[0;31m#Grab elements from the weather_data dictionary\u001b[0m\u001b[0;34m\u001b[0m\u001b[0;34m\u001b[0m\u001b[0m\n",
      "\u001b[0;32m~/Documents/Git/vineyard_scout/utility.py\u001b[0m in \u001b[0;36mweather_hist\u001b[0;34m(start_date, end_date, lat, lng)\u001b[0m\n\u001b[1;32m     96\u001b[0m     \u001b[0;32mtry\u001b[0m\u001b[0;34m:\u001b[0m\u001b[0;34m\u001b[0m\u001b[0m\n\u001b[1;32m     97\u001b[0m         \u001b[0mwbit_url\u001b[0m \u001b[0;34m=\u001b[0m \u001b[0;34m'http://api.weatherbit.io/v1.0/history/daily?key='\u001b[0m \u001b[0;34m+\u001b[0m \u001b[0mwbit_key\u001b[0m \u001b[0;34m+\u001b[0m \u001b[0;34m'&lat='\u001b[0m \u001b[0;34m+\u001b[0m \u001b[0mstr\u001b[0m\u001b[0;34m(\u001b[0m\u001b[0mlat\u001b[0m\u001b[0;34m)\u001b[0m \u001b[0;34m+\u001b[0m \u001b[0;34m'&lon='\u001b[0m \u001b[0;34m+\u001b[0m \u001b[0mstr\u001b[0m\u001b[0;34m(\u001b[0m\u001b[0mlng\u001b[0m\u001b[0;34m)\u001b[0m \u001b[0;34m+\u001b[0m \u001b[0;34m'&start_date='\u001b[0m \u001b[0;34m+\u001b[0m \u001b[0mstart_date\u001b[0m \u001b[0;34m+\u001b[0m \u001b[0;34m'&end_date='\u001b[0m \u001b[0;34m+\u001b[0m \u001b[0mend_date\u001b[0m\u001b[0;34m\u001b[0m\u001b[0m\n\u001b[0;32m---> 98\u001b[0;31m         \u001b[0mr\u001b[0m \u001b[0;34m=\u001b[0m \u001b[0mrequests\u001b[0m\u001b[0;34m.\u001b[0m\u001b[0mget\u001b[0m\u001b[0;34m(\u001b[0m\u001b[0mwbit_url\u001b[0m\u001b[0;34m)\u001b[0m\u001b[0;34m.\u001b[0m\u001b[0mjson\u001b[0m\u001b[0;34m(\u001b[0m\u001b[0;34m)\u001b[0m\u001b[0;34m.\u001b[0m\u001b[0mget\u001b[0m\u001b[0;34m(\u001b[0m\u001b[0;34m'data'\u001b[0m\u001b[0;34m)\u001b[0m\u001b[0;34m[\u001b[0m\u001b[0;36m0\u001b[0m\u001b[0;34m]\u001b[0m\u001b[0;34m\u001b[0m\u001b[0m\n\u001b[0m\u001b[1;32m     99\u001b[0m \u001b[0;34m\u001b[0m\u001b[0m\n\u001b[1;32m    100\u001b[0m         \u001b[0;31m#Reset the sleep value to 1 second if the API fails in the future\u001b[0m\u001b[0;34m\u001b[0m\u001b[0;34m\u001b[0m\u001b[0m\n",
      "\u001b[0;32m/Library/Frameworks/Python.framework/Versions/3.6/lib/python3.6/site-packages/requests/api.py\u001b[0m in \u001b[0;36mget\u001b[0;34m(url, params, **kwargs)\u001b[0m\n\u001b[1;32m     70\u001b[0m \u001b[0;34m\u001b[0m\u001b[0m\n\u001b[1;32m     71\u001b[0m     \u001b[0mkwargs\u001b[0m\u001b[0;34m.\u001b[0m\u001b[0msetdefault\u001b[0m\u001b[0;34m(\u001b[0m\u001b[0;34m'allow_redirects'\u001b[0m\u001b[0;34m,\u001b[0m \u001b[0;32mTrue\u001b[0m\u001b[0;34m)\u001b[0m\u001b[0;34m\u001b[0m\u001b[0m\n\u001b[0;32m---> 72\u001b[0;31m     \u001b[0;32mreturn\u001b[0m \u001b[0mrequest\u001b[0m\u001b[0;34m(\u001b[0m\u001b[0;34m'get'\u001b[0m\u001b[0;34m,\u001b[0m \u001b[0murl\u001b[0m\u001b[0;34m,\u001b[0m \u001b[0mparams\u001b[0m\u001b[0;34m=\u001b[0m\u001b[0mparams\u001b[0m\u001b[0;34m,\u001b[0m \u001b[0;34m**\u001b[0m\u001b[0mkwargs\u001b[0m\u001b[0;34m)\u001b[0m\u001b[0;34m\u001b[0m\u001b[0m\n\u001b[0m\u001b[1;32m     73\u001b[0m \u001b[0;34m\u001b[0m\u001b[0m\n\u001b[1;32m     74\u001b[0m \u001b[0;34m\u001b[0m\u001b[0m\n",
      "\u001b[0;32m/Library/Frameworks/Python.framework/Versions/3.6/lib/python3.6/site-packages/requests/api.py\u001b[0m in \u001b[0;36mrequest\u001b[0;34m(method, url, **kwargs)\u001b[0m\n\u001b[1;32m     56\u001b[0m     \u001b[0;31m# cases, and look like a memory leak in others.\u001b[0m\u001b[0;34m\u001b[0m\u001b[0;34m\u001b[0m\u001b[0m\n\u001b[1;32m     57\u001b[0m     \u001b[0;32mwith\u001b[0m \u001b[0msessions\u001b[0m\u001b[0;34m.\u001b[0m\u001b[0mSession\u001b[0m\u001b[0;34m(\u001b[0m\u001b[0;34m)\u001b[0m \u001b[0;32mas\u001b[0m \u001b[0msession\u001b[0m\u001b[0;34m:\u001b[0m\u001b[0;34m\u001b[0m\u001b[0m\n\u001b[0;32m---> 58\u001b[0;31m         \u001b[0;32mreturn\u001b[0m \u001b[0msession\u001b[0m\u001b[0;34m.\u001b[0m\u001b[0mrequest\u001b[0m\u001b[0;34m(\u001b[0m\u001b[0mmethod\u001b[0m\u001b[0;34m=\u001b[0m\u001b[0mmethod\u001b[0m\u001b[0;34m,\u001b[0m \u001b[0murl\u001b[0m\u001b[0;34m=\u001b[0m\u001b[0murl\u001b[0m\u001b[0;34m,\u001b[0m \u001b[0;34m**\u001b[0m\u001b[0mkwargs\u001b[0m\u001b[0;34m)\u001b[0m\u001b[0;34m\u001b[0m\u001b[0m\n\u001b[0m\u001b[1;32m     59\u001b[0m \u001b[0;34m\u001b[0m\u001b[0m\n\u001b[1;32m     60\u001b[0m \u001b[0;34m\u001b[0m\u001b[0m\n",
      "\u001b[0;32m/Library/Frameworks/Python.framework/Versions/3.6/lib/python3.6/site-packages/requests/sessions.py\u001b[0m in \u001b[0;36mrequest\u001b[0;34m(self, method, url, params, data, headers, cookies, files, auth, timeout, allow_redirects, proxies, hooks, stream, verify, cert, json)\u001b[0m\n\u001b[1;32m    506\u001b[0m         }\n\u001b[1;32m    507\u001b[0m         \u001b[0msend_kwargs\u001b[0m\u001b[0;34m.\u001b[0m\u001b[0mupdate\u001b[0m\u001b[0;34m(\u001b[0m\u001b[0msettings\u001b[0m\u001b[0;34m)\u001b[0m\u001b[0;34m\u001b[0m\u001b[0m\n\u001b[0;32m--> 508\u001b[0;31m         \u001b[0mresp\u001b[0m \u001b[0;34m=\u001b[0m \u001b[0mself\u001b[0m\u001b[0;34m.\u001b[0m\u001b[0msend\u001b[0m\u001b[0;34m(\u001b[0m\u001b[0mprep\u001b[0m\u001b[0;34m,\u001b[0m \u001b[0;34m**\u001b[0m\u001b[0msend_kwargs\u001b[0m\u001b[0;34m)\u001b[0m\u001b[0;34m\u001b[0m\u001b[0m\n\u001b[0m\u001b[1;32m    509\u001b[0m \u001b[0;34m\u001b[0m\u001b[0m\n\u001b[1;32m    510\u001b[0m         \u001b[0;32mreturn\u001b[0m \u001b[0mresp\u001b[0m\u001b[0;34m\u001b[0m\u001b[0m\n",
      "\u001b[0;32m/Library/Frameworks/Python.framework/Versions/3.6/lib/python3.6/site-packages/requests/sessions.py\u001b[0m in \u001b[0;36msend\u001b[0;34m(self, request, **kwargs)\u001b[0m\n\u001b[1;32m    616\u001b[0m \u001b[0;34m\u001b[0m\u001b[0m\n\u001b[1;32m    617\u001b[0m         \u001b[0;31m# Send the request\u001b[0m\u001b[0;34m\u001b[0m\u001b[0;34m\u001b[0m\u001b[0m\n\u001b[0;32m--> 618\u001b[0;31m         \u001b[0mr\u001b[0m \u001b[0;34m=\u001b[0m \u001b[0madapter\u001b[0m\u001b[0;34m.\u001b[0m\u001b[0msend\u001b[0m\u001b[0;34m(\u001b[0m\u001b[0mrequest\u001b[0m\u001b[0;34m,\u001b[0m \u001b[0;34m**\u001b[0m\u001b[0mkwargs\u001b[0m\u001b[0;34m)\u001b[0m\u001b[0;34m\u001b[0m\u001b[0m\n\u001b[0m\u001b[1;32m    619\u001b[0m \u001b[0;34m\u001b[0m\u001b[0m\n\u001b[1;32m    620\u001b[0m         \u001b[0;31m# Total elapsed time of the request (approximately)\u001b[0m\u001b[0;34m\u001b[0m\u001b[0;34m\u001b[0m\u001b[0m\n",
      "\u001b[0;32m/Library/Frameworks/Python.framework/Versions/3.6/lib/python3.6/site-packages/requests/adapters.py\u001b[0m in \u001b[0;36msend\u001b[0;34m(self, request, stream, timeout, verify, cert, proxies)\u001b[0m\n\u001b[1;32m    438\u001b[0m                     \u001b[0mdecode_content\u001b[0m\u001b[0;34m=\u001b[0m\u001b[0;32mFalse\u001b[0m\u001b[0;34m,\u001b[0m\u001b[0;34m\u001b[0m\u001b[0m\n\u001b[1;32m    439\u001b[0m                     \u001b[0mretries\u001b[0m\u001b[0;34m=\u001b[0m\u001b[0mself\u001b[0m\u001b[0;34m.\u001b[0m\u001b[0mmax_retries\u001b[0m\u001b[0;34m,\u001b[0m\u001b[0;34m\u001b[0m\u001b[0m\n\u001b[0;32m--> 440\u001b[0;31m                     \u001b[0mtimeout\u001b[0m\u001b[0;34m=\u001b[0m\u001b[0mtimeout\u001b[0m\u001b[0;34m\u001b[0m\u001b[0m\n\u001b[0m\u001b[1;32m    441\u001b[0m                 )\n\u001b[1;32m    442\u001b[0m \u001b[0;34m\u001b[0m\u001b[0m\n",
      "\u001b[0;32m/Library/Frameworks/Python.framework/Versions/3.6/lib/python3.6/site-packages/urllib3/connectionpool.py\u001b[0m in \u001b[0;36murlopen\u001b[0;34m(self, method, url, body, headers, retries, redirect, assert_same_host, timeout, pool_timeout, release_conn, chunked, body_pos, **response_kw)\u001b[0m\n\u001b[1;32m    599\u001b[0m                                                   \u001b[0mtimeout\u001b[0m\u001b[0;34m=\u001b[0m\u001b[0mtimeout_obj\u001b[0m\u001b[0;34m,\u001b[0m\u001b[0;34m\u001b[0m\u001b[0m\n\u001b[1;32m    600\u001b[0m                                                   \u001b[0mbody\u001b[0m\u001b[0;34m=\u001b[0m\u001b[0mbody\u001b[0m\u001b[0;34m,\u001b[0m \u001b[0mheaders\u001b[0m\u001b[0;34m=\u001b[0m\u001b[0mheaders\u001b[0m\u001b[0;34m,\u001b[0m\u001b[0;34m\u001b[0m\u001b[0m\n\u001b[0;32m--> 601\u001b[0;31m                                                   chunked=chunked)\n\u001b[0m\u001b[1;32m    602\u001b[0m \u001b[0;34m\u001b[0m\u001b[0m\n\u001b[1;32m    603\u001b[0m             \u001b[0;31m# If we're going to release the connection in ``finally:``, then\u001b[0m\u001b[0;34m\u001b[0m\u001b[0;34m\u001b[0m\u001b[0m\n",
      "\u001b[0;32m/Library/Frameworks/Python.framework/Versions/3.6/lib/python3.6/site-packages/urllib3/connectionpool.py\u001b[0m in \u001b[0;36m_make_request\u001b[0;34m(self, conn, method, url, timeout, chunked, **httplib_request_kw)\u001b[0m\n\u001b[1;32m    381\u001b[0m             \u001b[0;32mexcept\u001b[0m \u001b[0mTypeError\u001b[0m\u001b[0;34m:\u001b[0m  \u001b[0;31m# Python 2.6 and older, Python 3\u001b[0m\u001b[0;34m\u001b[0m\u001b[0m\n\u001b[1;32m    382\u001b[0m                 \u001b[0;32mtry\u001b[0m\u001b[0;34m:\u001b[0m\u001b[0;34m\u001b[0m\u001b[0m\n\u001b[0;32m--> 383\u001b[0;31m                     \u001b[0mhttplib_response\u001b[0m \u001b[0;34m=\u001b[0m \u001b[0mconn\u001b[0m\u001b[0;34m.\u001b[0m\u001b[0mgetresponse\u001b[0m\u001b[0;34m(\u001b[0m\u001b[0;34m)\u001b[0m\u001b[0;34m\u001b[0m\u001b[0m\n\u001b[0m\u001b[1;32m    384\u001b[0m                 \u001b[0;32mexcept\u001b[0m \u001b[0mException\u001b[0m \u001b[0;32mas\u001b[0m \u001b[0me\u001b[0m\u001b[0;34m:\u001b[0m\u001b[0;34m\u001b[0m\u001b[0m\n\u001b[1;32m    385\u001b[0m                     \u001b[0;31m# Remove the TypeError from the exception chain in Python 3;\u001b[0m\u001b[0;34m\u001b[0m\u001b[0;34m\u001b[0m\u001b[0m\n",
      "\u001b[0;32m/Library/Frameworks/Python.framework/Versions/3.6/lib/python3.6/http/client.py\u001b[0m in \u001b[0;36mgetresponse\u001b[0;34m(self)\u001b[0m\n\u001b[1;32m   1329\u001b[0m         \u001b[0;32mtry\u001b[0m\u001b[0;34m:\u001b[0m\u001b[0;34m\u001b[0m\u001b[0m\n\u001b[1;32m   1330\u001b[0m             \u001b[0;32mtry\u001b[0m\u001b[0;34m:\u001b[0m\u001b[0;34m\u001b[0m\u001b[0m\n\u001b[0;32m-> 1331\u001b[0;31m                 \u001b[0mresponse\u001b[0m\u001b[0;34m.\u001b[0m\u001b[0mbegin\u001b[0m\u001b[0;34m(\u001b[0m\u001b[0;34m)\u001b[0m\u001b[0;34m\u001b[0m\u001b[0m\n\u001b[0m\u001b[1;32m   1332\u001b[0m             \u001b[0;32mexcept\u001b[0m \u001b[0mConnectionError\u001b[0m\u001b[0;34m:\u001b[0m\u001b[0;34m\u001b[0m\u001b[0m\n\u001b[1;32m   1333\u001b[0m                 \u001b[0mself\u001b[0m\u001b[0;34m.\u001b[0m\u001b[0mclose\u001b[0m\u001b[0;34m(\u001b[0m\u001b[0;34m)\u001b[0m\u001b[0;34m\u001b[0m\u001b[0m\n",
      "\u001b[0;32m/Library/Frameworks/Python.framework/Versions/3.6/lib/python3.6/http/client.py\u001b[0m in \u001b[0;36mbegin\u001b[0;34m(self)\u001b[0m\n\u001b[1;32m    295\u001b[0m         \u001b[0;31m# read until we get a non-100 response\u001b[0m\u001b[0;34m\u001b[0m\u001b[0;34m\u001b[0m\u001b[0m\n\u001b[1;32m    296\u001b[0m         \u001b[0;32mwhile\u001b[0m \u001b[0;32mTrue\u001b[0m\u001b[0;34m:\u001b[0m\u001b[0;34m\u001b[0m\u001b[0m\n\u001b[0;32m--> 297\u001b[0;31m             \u001b[0mversion\u001b[0m\u001b[0;34m,\u001b[0m \u001b[0mstatus\u001b[0m\u001b[0;34m,\u001b[0m \u001b[0mreason\u001b[0m \u001b[0;34m=\u001b[0m \u001b[0mself\u001b[0m\u001b[0;34m.\u001b[0m\u001b[0m_read_status\u001b[0m\u001b[0;34m(\u001b[0m\u001b[0;34m)\u001b[0m\u001b[0;34m\u001b[0m\u001b[0m\n\u001b[0m\u001b[1;32m    298\u001b[0m             \u001b[0;32mif\u001b[0m \u001b[0mstatus\u001b[0m \u001b[0;34m!=\u001b[0m \u001b[0mCONTINUE\u001b[0m\u001b[0;34m:\u001b[0m\u001b[0;34m\u001b[0m\u001b[0m\n\u001b[1;32m    299\u001b[0m                 \u001b[0;32mbreak\u001b[0m\u001b[0;34m\u001b[0m\u001b[0m\n",
      "\u001b[0;32m/Library/Frameworks/Python.framework/Versions/3.6/lib/python3.6/http/client.py\u001b[0m in \u001b[0;36m_read_status\u001b[0;34m(self)\u001b[0m\n\u001b[1;32m    256\u001b[0m \u001b[0;34m\u001b[0m\u001b[0m\n\u001b[1;32m    257\u001b[0m     \u001b[0;32mdef\u001b[0m \u001b[0m_read_status\u001b[0m\u001b[0;34m(\u001b[0m\u001b[0mself\u001b[0m\u001b[0;34m)\u001b[0m\u001b[0;34m:\u001b[0m\u001b[0;34m\u001b[0m\u001b[0m\n\u001b[0;32m--> 258\u001b[0;31m         \u001b[0mline\u001b[0m \u001b[0;34m=\u001b[0m \u001b[0mstr\u001b[0m\u001b[0;34m(\u001b[0m\u001b[0mself\u001b[0m\u001b[0;34m.\u001b[0m\u001b[0mfp\u001b[0m\u001b[0;34m.\u001b[0m\u001b[0mreadline\u001b[0m\u001b[0;34m(\u001b[0m\u001b[0m_MAXLINE\u001b[0m \u001b[0;34m+\u001b[0m \u001b[0;36m1\u001b[0m\u001b[0;34m)\u001b[0m\u001b[0;34m,\u001b[0m \u001b[0;34m\"iso-8859-1\"\u001b[0m\u001b[0;34m)\u001b[0m\u001b[0;34m\u001b[0m\u001b[0m\n\u001b[0m\u001b[1;32m    259\u001b[0m         \u001b[0;32mif\u001b[0m \u001b[0mlen\u001b[0m\u001b[0;34m(\u001b[0m\u001b[0mline\u001b[0m\u001b[0;34m)\u001b[0m \u001b[0;34m>\u001b[0m \u001b[0m_MAXLINE\u001b[0m\u001b[0;34m:\u001b[0m\u001b[0;34m\u001b[0m\u001b[0m\n\u001b[1;32m    260\u001b[0m             \u001b[0;32mraise\u001b[0m \u001b[0mLineTooLong\u001b[0m\u001b[0;34m(\u001b[0m\u001b[0;34m\"status line\"\u001b[0m\u001b[0;34m)\u001b[0m\u001b[0;34m\u001b[0m\u001b[0m\n",
      "\u001b[0;32m/Library/Frameworks/Python.framework/Versions/3.6/lib/python3.6/socket.py\u001b[0m in \u001b[0;36mreadinto\u001b[0;34m(self, b)\u001b[0m\n\u001b[1;32m    584\u001b[0m         \u001b[0;32mwhile\u001b[0m \u001b[0;32mTrue\u001b[0m\u001b[0;34m:\u001b[0m\u001b[0;34m\u001b[0m\u001b[0m\n\u001b[1;32m    585\u001b[0m             \u001b[0;32mtry\u001b[0m\u001b[0;34m:\u001b[0m\u001b[0;34m\u001b[0m\u001b[0m\n\u001b[0;32m--> 586\u001b[0;31m                 \u001b[0;32mreturn\u001b[0m \u001b[0mself\u001b[0m\u001b[0;34m.\u001b[0m\u001b[0m_sock\u001b[0m\u001b[0;34m.\u001b[0m\u001b[0mrecv_into\u001b[0m\u001b[0;34m(\u001b[0m\u001b[0mb\u001b[0m\u001b[0;34m)\u001b[0m\u001b[0;34m\u001b[0m\u001b[0m\n\u001b[0m\u001b[1;32m    587\u001b[0m             \u001b[0;32mexcept\u001b[0m \u001b[0mtimeout\u001b[0m\u001b[0;34m:\u001b[0m\u001b[0;34m\u001b[0m\u001b[0m\n\u001b[1;32m    588\u001b[0m                 \u001b[0mself\u001b[0m\u001b[0;34m.\u001b[0m\u001b[0m_timeout_occurred\u001b[0m \u001b[0;34m=\u001b[0m \u001b[0;32mTrue\u001b[0m\u001b[0;34m\u001b[0m\u001b[0m\n",
      "\u001b[0;31mKeyboardInterrupt\u001b[0m: "
     ]
    }
   ],
   "source": [
    "is_vineyard_train, map_coords_train, elevation_train, wind_dir_train, wind_spd_train, precip_train, temp_train, min_temp_train, max_temp_train, clouds_train, ghi_train, rh_train = land_data(train_df)"
   ]
  },
  {
   "cell_type": "markdown",
   "metadata": {},
   "source": [
    "## Save train & test variables"
   ]
  },
  {
   "cell_type": "code",
   "execution_count": 9,
   "metadata": {},
   "outputs": [],
   "source": [
    "# Save variable objects:\n",
    "with open('vineyard_train.pkl', 'wb') as f: \n",
    "    pickle.dump([is_vineyard_train, map_coords_train, elevation_train, wind_dir_train, wind_spd_train, precip_train, temp_train, min_temp_train, max_temp_train, clouds_train, ghi_train, rh_train], f)"
   ]
  },
  {
   "cell_type": "code",
   "execution_count": 10,
   "metadata": {},
   "outputs": [
    {
     "name": "stdout",
     "output_type": "stream",
     "text": [
      "Collecting data for address: 8419 Airola, Vallecito, CA 95251\n",
      "Collecting data for address: 850 Rutherford Road, Rutherford, CA 94574\n",
      "Collecting data for address: 8500 Dry Creek Road, Geyserville, CA 95441\n",
      "Collecting data for address: 8533 Dry Creek Road, Healdsburg, CA 95448\n",
      "Collecting data for address: 8585 Cross Canyons Road, San Miguel, CA 93451\n",
      "Collecting data for address: 8599 Ocean View Rd, Ventura, CA 93001\n",
      "Collecting data for address: 8605 State Highway 16, Brooks, CA 95606\n",
      "Collecting data for address: 8644 Highway 128, Healdsburg, CA 95448\n",
      "Collecting data for address: 8711 Silverado Trail, St. Helena, CA 94574\n",
      "Collecting data for address: 8761 Dry Creek Road, Healdsburg, CA 96448\n",
      "Collecting data for address: 8900 Sunset Rd, Joshua Tree, CA 92252\n",
      "Collecting data for address: 8910 Adelaida Road, Paso Robles, CA 93446\n",
      "Collecting data for address: 90 Grey Fox Lane, Oroville, CA 95966\n",
      "Collecting data for address: 9010 E. Harney Lane Lodi, CA 95240\n",
      "Collecting data for address: 91 Eden Canyon Rd, Berry Creek, CA 95916\n",
      "Collecting data for address: 910 Gem Lane, Ramona, CA, 92065\n",
      "Collecting data for address: 9200 Highway 128 Philo, CA 95466\n",
      "Collecting data for address: 9275 Midway, Durham, CA 95938\n",
      "Collecting data for address: 934 Oeschger Rd, Ferndale, CA 95536\n",
      "Collecting data for address: 9345 Stanford Lane, Durham, CA 95938\n",
      "Collecting data for address: 9437 Steele Canyon Rd, Napa, CA 94558\n",
      "Collecting data for address: 945 Deer Park Road, St. Helena, CA 94574\n",
      "Collecting data for address: 9592 Sonoma Hwy (Hwy 12), Kenwood, CA 95452\n",
      "Collecting data for address: 9694 Antelope Rd, Beverly Hills, CA 90210\n",
      "Collecting data for address: 9711 West Dry Creek Road, Healdsburg, CA 95448\n",
      "Collecting data for address: 9746 Camino Del Coronado, Moreno Valley, CA 92557\n",
      "Collecting data for address: 9786 Ross station Road Sebastopol, CA 95472\n",
      "Collecting data for address: 987 St Helena Hwy, St Helena , CA 94574\n",
      "Collecting data for address: 9885 Adobe Creek Rd, Kelseyville, CA 95451\n",
      "Collecting data for address: 990 Ambush Trl, Paso Robles, CA 93446\n"
     ]
    }
   ],
   "source": [
    "is_vineyard_test, map_coords_test, elevation_test, wind_dir_test, wind_spd_test, precip_test, temp_test, min_temp_test, max_temp_test, clouds_test, ghi_test, rh_test = land_data(test_df)"
   ]
  },
  {
   "cell_type": "code",
   "execution_count": 11,
   "metadata": {},
   "outputs": [],
   "source": [
    "# Save variable objects:\n",
    "with open('vineyard_test.pkl', 'wb') as f: \n",
    "    pickle.dump([is_vineyard_test, map_coords_test, elevation_test, wind_dir_test, wind_spd_test, precip_test, temp_test, min_temp_test, max_temp_test, clouds_test, ghi_test, rh_test], f)"
   ]
  }
 ],
 "metadata": {
  "kernelspec": {
   "display_name": "Python 3",
   "language": "python",
   "name": "python3"
  },
  "language_info": {
   "codemirror_mode": {
    "name": "ipython",
    "version": 3
   },
   "file_extension": ".py",
   "mimetype": "text/x-python",
   "name": "python",
   "nbconvert_exporter": "python",
   "pygments_lexer": "ipython3",
   "version": "3.6.0"
  }
 },
 "nbformat": 4,
 "nbformat_minor": 2
}
