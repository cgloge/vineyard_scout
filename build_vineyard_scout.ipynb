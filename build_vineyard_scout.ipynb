{
 "cells": [
  {
   "cell_type": "markdown",
   "metadata": {},
   "source": [
    "# Build and evalulate our model\n",
    "\n",
    "We'll now import the latitude, longitude and weather data we collected and saved as pickle variables with the collect_and_clean_data.ipynb notebook"
   ]
  },
  {
   "cell_type": "markdown",
   "metadata": {},
   "source": [
    "## Import required packages and cleaned variables "
   ]
  },
  {
   "cell_type": "code",
   "execution_count": 1,
   "metadata": {},
   "outputs": [
    {
     "name": "stderr",
     "output_type": "stream",
     "text": [
      "Using TensorFlow backend.\n",
      "/Library/Frameworks/Python.framework/Versions/3.6/lib/python3.6/importlib/_bootstrap.py:205: RuntimeWarning: compiletime version 3.5 of module 'tensorflow.python.framework.fast_tensor_util' does not match runtime version 3.6\n",
      "  return f(*args, **kwds)\n"
     ]
    }
   ],
   "source": [
    "import numpy as np\n",
    "import pandas as pd\n",
    "from tabulate import tabulate\n",
    "import keras\n",
    "from keras.layers import Input, Dense, concatenate, Conv1D, Conv2D, Flatten, BatchNormalization, Activation, GlobalMaxPool1D, MaxPooling2D, Dropout, GlobalMaxPool2D\n",
    "from keras import regularizers\n",
    "from keras.models import Model\n",
    "import pickle\n",
    "import inspect\n",
    "import re\n",
    "np.random.seed(123) #Control randomization "
   ]
  },
  {
   "cell_type": "markdown",
   "metadata": {},
   "source": [
    "## Import the elevation and weather data as a pickle file\n",
    "Note: I imported the value as a pickle since it was easier to grab the nested arrays in cells out of that that than the csv which import as strings"
   ]
  },
  {
   "cell_type": "code",
   "execution_count": 2,
   "metadata": {},
   "outputs": [],
   "source": [
    "with open('california_vineyards_elevation_weather.pkl', 'rb') as f: \n",
    "    elevation_weather_df = pickle.load(f)\n",
    "    \n",
    "#convert rows from a given column into a numpy array\n",
    "def rows_to_2D_array(col):\n",
    "    for i, row in enumerate(col):\n",
    "        if i == 0:\n",
    "            arr = ([row])\n",
    "        else:\n",
    "            arr = np.vstack([arr,row])\n",
    "    return arr\n",
    "    \n",
    "#convert rows from a given column into a numpy array\n",
    "def rows_to_3D_array(col):\n",
    "    for i, row in enumerate(col):\n",
    "        if i == 0:\n",
    "            arr = np.array([row[0]])\n",
    "        else:\n",
    "            arr = np.concatenate([arr, np.array([row[0]])], axis=0)\n",
    "    return arr\n",
    "\n",
    "is_vineyard = np.array(elevation_weather_df['IsVineyard']).astype(float)\n",
    "map_coords = rows_to_2D_array(elevation_weather_df['MapCoords'])\n",
    "elevation = rows_to_3D_array(elevation_weather_df['ElevationMatrix'])\n",
    "wind_dir = rows_to_2D_array(elevation_weather_df['WindDir'])\n",
    "wind_spd = rows_to_2D_array(elevation_weather_df['WindSpd'])\n",
    "precip = rows_to_2D_array(elevation_weather_df['Precip'])\n",
    "temp = rows_to_2D_array(elevation_weather_df['Temp'])\n",
    "min_temp = rows_to_2D_array(elevation_weather_df['MinTemp'])\n",
    "max_temp = rows_to_2D_array(elevation_weather_df['MaxTemp'])\n",
    "clouds = rows_to_2D_array(elevation_weather_df['Clouds'])\n",
    "ghi = rows_to_2D_array(elevation_weather_df['GHI'])\n",
    "rh = rows_to_2D_array(elevation_weather_df['RH'])"
   ]
  },
  {
   "cell_type": "markdown",
   "metadata": {},
   "source": [
    "## Reserve portion of data for test set\n",
    "Choose the number of addresses we want to leave as our test set"
   ]
  },
  {
   "cell_type": "code",
   "execution_count": 3,
   "metadata": {},
   "outputs": [],
   "source": [
    "test_n = 40"
   ]
  },
  {
   "cell_type": "markdown",
   "metadata": {},
   "source": [
    "## Clean missing data\n",
    "Convert all missing values to the mean of each variable"
   ]
  },
  {
   "cell_type": "code",
   "execution_count": 4,
   "metadata": {},
   "outputs": [],
   "source": [
    "#Replace missing values with mean of array\n",
    "def replace_none(array):\n",
    "    for subarray in array:\n",
    "        subarray[subarray == None] = np.mean(subarray[subarray != None])\n",
    "    \n",
    "replace_none([map_coords, elevation, wind_dir, wind_spd, precip, temp, min_temp, max_temp, clouds, ghi, rh])"
   ]
  },
  {
   "cell_type": "code",
   "execution_count": 5,
   "metadata": {},
   "outputs": [],
   "source": [
    "#Grab the number of dates collected in our weather variables to help shape our model structure\n",
    "n_dates = len(wind_dir[1])\n",
    "\n",
    "#Model structure\n",
    "in_elevation = Input(shape=(5,5,), name='elevation')\n",
    "in_map_coords = Input(shape=(2,), name='map_coords')\n",
    "in_wind_dr = Input(shape=(n_dates,), name = 'wind_dir')\n",
    "in_wind_spd = Input(shape=(n_dates,), name = 'wind_spd')\n",
    "in_precip = Input(shape=(n_dates,), name = 'precip')\n",
    "in_temp = Input(shape=(n_dates,), name = 'temp')\n",
    "in_min_temp = Input(shape=(n_dates,), name = 'min_temp')\n",
    "in_max_temp = Input(shape=(n_dates,), name = 'max_temp')\n",
    "in_clouds = Input(shape=(n_dates,), name = 'clouds')\n",
    "in_ghi = Input(shape=(n_dates,), name = 'ghi')\n",
    "in_rh = Input(shape=(n_dates,), name = 'rh')"
   ]
  },
  {
   "cell_type": "markdown",
   "metadata": {},
   "source": [
    "## Create dataframe to track performance of our model with different hyperparameters\n",
    "We'll evaluate each run of our model with different settings by averaging training loss against validation loss. "
   ]
  },
  {
   "cell_type": "code",
   "execution_count": 6,
   "metadata": {},
   "outputs": [],
   "source": [
    "model_per_cols = ['BestLoss','Epoch','Dropout','KerReg','ActReg','HidDense','HidAct', 'FinAct', 'Batch', 'Vars']\n",
    "model_perf_df = pd.DataFrame(columns=model_per_cols)"
   ]
  },
  {
   "cell_type": "markdown",
   "metadata": {},
   "source": [
    "## Set hyperparameters\n",
    "Save hyperparameters for training model to evaluate performance as we tweak the model"
   ]
  },
  {
   "cell_type": "code",
   "execution_count": 95,
   "metadata": {},
   "outputs": [],
   "source": [
    "hidden_drop_out = 0.4\n",
    "kern_regularizer = 0.0000001\n",
    "act_regularizer = 0.0000001\n",
    "hidden_dense_size = 100\n",
    "hidden_activation = 'elu'\n",
    "final_activation = 'sigmoid'\n",
    "batch_size = 128\n",
    "epochs = 100"
   ]
  },
  {
   "cell_type": "code",
   "execution_count": 96,
   "metadata": {},
   "outputs": [],
   "source": [
    "x0 = in_elevation\n",
    "x0 = Conv1D(4, kernel_size=(2))(x0)\n",
    "x0 = BatchNormalization()(x0)\n",
    "x0 = Activation(hidden_activation)(x0)\n",
    "x0 = Dropout(hidden_drop_out)(x0)\n",
    "x0 = GlobalMaxPool1D()(x0)\n",
    "\n",
    "x1 = in_map_coords\n",
    "x1 = BatchNormalization()(x1)\n",
    "x1 = Activation(hidden_activation)(x1)\n",
    "x1 = Dropout(hidden_drop_out)(x1)\n",
    "\n",
    "x2= in_wind_dr\n",
    "x2 = BatchNormalization()(x2)\n",
    "x2 = Activation(hidden_activation)(x2)\n",
    "x2 = Dropout(hidden_drop_out)(x2)\n",
    "\n",
    "x3 = in_wind_spd\n",
    "x3 = BatchNormalization()(x3)\n",
    "x3 = Activation(hidden_activation)(x3)\n",
    "x3 = Dropout(hidden_drop_out)(x3)\n",
    "\n",
    "x4 = in_precip\n",
    "x4 = BatchNormalization()(x4)\n",
    "x4 = Activation(hidden_activation)(x4)\n",
    "x4 = Dropout(hidden_drop_out)(x4)\n",
    "\n",
    "x5 = in_temp\n",
    "x5 = BatchNormalization()(x5)\n",
    "x5 = Activation(hidden_activation)(x5)\n",
    "x5 = Dropout(hidden_drop_out)(x5)\n",
    "\n",
    "x6 = in_min_temp\n",
    "x6 = BatchNormalization()(x6)\n",
    "x6 = Activation(hidden_activation)(x6)\n",
    "x6 = Dropout(hidden_drop_out)(x6)\n",
    "\n",
    "x7 = in_max_temp\n",
    "x7 = BatchNormalization()(x7)\n",
    "x7 = Activation(hidden_activation)(x7)\n",
    "x7 = Dropout(hidden_drop_out)(x7)\n",
    "\n",
    "x8 = in_clouds\n",
    "x8 = BatchNormalization()(x8)\n",
    "x8 = Activation(hidden_activation)(x8)\n",
    "x8 = Dropout(hidden_drop_out)(x8)\n",
    "\n",
    "x9 = in_ghi\n",
    "x9 = BatchNormalization()(x9)\n",
    "x9 = Activation(hidden_activation)(x9)\n",
    "x9 = Dropout(hidden_drop_out)(x9)\n",
    "\n",
    "x10 = in_rh\n",
    "x10 = BatchNormalization()(x10)\n",
    "x10 = Activation(hidden_activation)(x10)\n",
    "x10 = Dropout(hidden_drop_out)(x10)\n",
    "\n",
    "#Choose which vars to include or drop\n",
    "vars_used_str = 'x0,x1,x2,x4,x6,x7,x8,x9,x10' #string to save to performance dataframe\n",
    "x = concatenate([x0,x1,x2,x4,x6,x7,x8,x9,x10])\n",
    "\n",
    "x = Dense(hidden_dense_size, activation=hidden_activation, kernel_regularizer=regularizers.l2(kern_regularizer), activity_regularizer=regularizers.l2(act_regularizer))(x)\n",
    "out = Dense(1, activation=final_activation)(x)"
   ]
  },
  {
   "cell_type": "code",
   "execution_count": 97,
   "metadata": {},
   "outputs": [
    {
     "name": "stdout",
     "output_type": "stream",
     "text": [
      "__________________________________________________________________________________________________\n",
      "Layer (type)                    Output Shape         Param #     Connected to                     \n",
      "==================================================================================================\n",
      "elevation (InputLayer)          (None, 5, 5)         0                                            \n",
      "__________________________________________________________________________________________________\n",
      "conv1d_10 (Conv1D)              (None, 4, 4)         44          elevation[0][0]                  \n",
      "__________________________________________________________________________________________________\n",
      "batch_normalization_100 (BatchN (None, 4, 4)         16          conv1d_10[0][0]                  \n",
      "__________________________________________________________________________________________________\n",
      "map_coords (InputLayer)         (None, 2)            0                                            \n",
      "__________________________________________________________________________________________________\n",
      "wind_dir (InputLayer)           (None, 70)           0                                            \n",
      "__________________________________________________________________________________________________\n",
      "precip (InputLayer)             (None, 70)           0                                            \n",
      "__________________________________________________________________________________________________\n",
      "min_temp (InputLayer)           (None, 70)           0                                            \n",
      "__________________________________________________________________________________________________\n",
      "max_temp (InputLayer)           (None, 70)           0                                            \n",
      "__________________________________________________________________________________________________\n",
      "clouds (InputLayer)             (None, 70)           0                                            \n",
      "__________________________________________________________________________________________________\n",
      "ghi (InputLayer)                (None, 70)           0                                            \n",
      "__________________________________________________________________________________________________\n",
      "rh (InputLayer)                 (None, 70)           0                                            \n",
      "__________________________________________________________________________________________________\n",
      "activation_100 (Activation)     (None, 4, 4)         0           batch_normalization_100[0][0]    \n",
      "__________________________________________________________________________________________________\n",
      "batch_normalization_101 (BatchN (None, 2)            8           map_coords[0][0]                 \n",
      "__________________________________________________________________________________________________\n",
      "batch_normalization_102 (BatchN (None, 70)           280         wind_dir[0][0]                   \n",
      "__________________________________________________________________________________________________\n",
      "batch_normalization_104 (BatchN (None, 70)           280         precip[0][0]                     \n",
      "__________________________________________________________________________________________________\n",
      "batch_normalization_106 (BatchN (None, 70)           280         min_temp[0][0]                   \n",
      "__________________________________________________________________________________________________\n",
      "batch_normalization_107 (BatchN (None, 70)           280         max_temp[0][0]                   \n",
      "__________________________________________________________________________________________________\n",
      "batch_normalization_108 (BatchN (None, 70)           280         clouds[0][0]                     \n",
      "__________________________________________________________________________________________________\n",
      "batch_normalization_109 (BatchN (None, 70)           280         ghi[0][0]                        \n",
      "__________________________________________________________________________________________________\n",
      "batch_normalization_110 (BatchN (None, 70)           280         rh[0][0]                         \n",
      "__________________________________________________________________________________________________\n",
      "dropout_100 (Dropout)           (None, 4, 4)         0           activation_100[0][0]             \n",
      "__________________________________________________________________________________________________\n",
      "activation_101 (Activation)     (None, 2)            0           batch_normalization_101[0][0]    \n",
      "__________________________________________________________________________________________________\n",
      "activation_102 (Activation)     (None, 70)           0           batch_normalization_102[0][0]    \n",
      "__________________________________________________________________________________________________\n",
      "activation_104 (Activation)     (None, 70)           0           batch_normalization_104[0][0]    \n",
      "__________________________________________________________________________________________________\n",
      "activation_106 (Activation)     (None, 70)           0           batch_normalization_106[0][0]    \n",
      "__________________________________________________________________________________________________\n",
      "activation_107 (Activation)     (None, 70)           0           batch_normalization_107[0][0]    \n",
      "__________________________________________________________________________________________________\n",
      "activation_108 (Activation)     (None, 70)           0           batch_normalization_108[0][0]    \n",
      "__________________________________________________________________________________________________\n",
      "activation_109 (Activation)     (None, 70)           0           batch_normalization_109[0][0]    \n",
      "__________________________________________________________________________________________________\n",
      "activation_110 (Activation)     (None, 70)           0           batch_normalization_110[0][0]    \n",
      "__________________________________________________________________________________________________\n",
      "global_max_pooling1d_10 (Global (None, 4)            0           dropout_100[0][0]                \n",
      "__________________________________________________________________________________________________\n",
      "dropout_101 (Dropout)           (None, 2)            0           activation_101[0][0]             \n",
      "__________________________________________________________________________________________________\n",
      "dropout_102 (Dropout)           (None, 70)           0           activation_102[0][0]             \n",
      "__________________________________________________________________________________________________\n",
      "dropout_104 (Dropout)           (None, 70)           0           activation_104[0][0]             \n",
      "__________________________________________________________________________________________________\n",
      "dropout_106 (Dropout)           (None, 70)           0           activation_106[0][0]             \n",
      "__________________________________________________________________________________________________\n",
      "dropout_107 (Dropout)           (None, 70)           0           activation_107[0][0]             \n",
      "__________________________________________________________________________________________________\n",
      "dropout_108 (Dropout)           (None, 70)           0           activation_108[0][0]             \n",
      "__________________________________________________________________________________________________\n",
      "dropout_109 (Dropout)           (None, 70)           0           activation_109[0][0]             \n",
      "__________________________________________________________________________________________________\n",
      "dropout_110 (Dropout)           (None, 70)           0           activation_110[0][0]             \n",
      "__________________________________________________________________________________________________\n",
      "concatenate_10 (Concatenate)    (None, 496)          0           global_max_pooling1d_10[0][0]    \n",
      "                                                                 dropout_101[0][0]                \n",
      "                                                                 dropout_102[0][0]                \n",
      "                                                                 dropout_104[0][0]                \n",
      "                                                                 dropout_106[0][0]                \n",
      "                                                                 dropout_107[0][0]                \n",
      "                                                                 dropout_108[0][0]                \n",
      "                                                                 dropout_109[0][0]                \n",
      "                                                                 dropout_110[0][0]                \n",
      "__________________________________________________________________________________________________\n",
      "dense_19 (Dense)                (None, 100)          49700       concatenate_10[0][0]             \n",
      "__________________________________________________________________________________________________\n",
      "dense_20 (Dense)                (None, 1)            101         dense_19[0][0]                   \n",
      "==================================================================================================\n",
      "Total params: 51,829\n",
      "Trainable params: 50,837\n",
      "Non-trainable params: 992\n",
      "__________________________________________________________________________________________________\n"
     ]
    }
   ],
   "source": [
    "model = Model(inputs=[in_elevation, in_map_coords, in_wind_dr, in_wind_spd, in_precip, in_temp, in_min_temp, in_max_temp, in_clouds, in_ghi, in_rh], outputs=out)\n",
    "model.summary()"
   ]
  },
  {
   "cell_type": "code",
   "execution_count": 98,
   "metadata": {},
   "outputs": [],
   "source": [
    "opt = keras.optimizers.nadam()\n",
    "model.compile(optimizer=opt, loss='binary_crossentropy')\n",
    "model_filepath='.weights.best.hdf5'"
   ]
  },
  {
   "cell_type": "code",
   "execution_count": 99,
   "metadata": {
    "scrolled": false
   },
   "outputs": [
    {
     "name": "stdout",
     "output_type": "stream",
     "text": [
      "Train on 687 samples, validate on 172 samples\n",
      "Epoch 1/100\n",
      "687/687 [==============================] - 5s 7ms/step - loss: 0.7486 - val_loss: 0.5407\n",
      "Epoch 2/100\n",
      "687/687 [==============================] - 0s 138us/step - loss: 0.5901 - val_loss: 0.4184\n",
      "Epoch 3/100\n",
      "687/687 [==============================] - 0s 138us/step - loss: 0.5299 - val_loss: 0.4825\n",
      "Epoch 4/100\n",
      "687/687 [==============================] - 0s 163us/step - loss: 0.4969 - val_loss: 0.4616\n",
      "Epoch 5/100\n",
      "687/687 [==============================] - 0s 158us/step - loss: 0.4804 - val_loss: 0.4348\n",
      "Epoch 6/100\n",
      "687/687 [==============================] - 0s 158us/step - loss: 0.4409 - val_loss: 0.4679\n",
      "Epoch 7/100\n",
      "687/687 [==============================] - 0s 160us/step - loss: 0.4614 - val_loss: 0.4143\n",
      "Epoch 8/100\n",
      "687/687 [==============================] - 0s 148us/step - loss: 0.4662 - val_loss: 0.4362\n",
      "Epoch 9/100\n",
      "687/687 [==============================] - 0s 149us/step - loss: 0.4549 - val_loss: 0.4462\n",
      "Epoch 10/100\n",
      "687/687 [==============================] - 0s 152us/step - loss: 0.4170 - val_loss: 0.3970\n",
      "Epoch 11/100\n",
      "687/687 [==============================] - 0s 154us/step - loss: 0.4118 - val_loss: 0.3913\n",
      "Epoch 12/100\n",
      "687/687 [==============================] - 0s 158us/step - loss: 0.4216 - val_loss: 0.3911\n",
      "Epoch 13/100\n",
      "687/687 [==============================] - 0s 166us/step - loss: 0.4075 - val_loss: 0.3724\n",
      "Epoch 14/100\n",
      "687/687 [==============================] - 0s 148us/step - loss: 0.4203 - val_loss: 0.3727\n",
      "Epoch 15/100\n",
      "687/687 [==============================] - 0s 140us/step - loss: 0.4232 - val_loss: 0.3877\n",
      "Epoch 16/100\n",
      "687/687 [==============================] - 0s 168us/step - loss: 0.3882 - val_loss: 0.4098\n",
      "Epoch 17/100\n",
      "687/687 [==============================] - 0s 147us/step - loss: 0.3946 - val_loss: 0.4280\n",
      "Epoch 18/100\n",
      "687/687 [==============================] - 0s 150us/step - loss: 0.4117 - val_loss: 0.4089\n",
      "Epoch 19/100\n",
      "687/687 [==============================] - 0s 171us/step - loss: 0.3839 - val_loss: 0.3692\n",
      "Epoch 20/100\n",
      "687/687 [==============================] - 0s 153us/step - loss: 0.4032 - val_loss: 0.3813\n",
      "Epoch 21/100\n",
      "687/687 [==============================] - 0s 139us/step - loss: 0.4231 - val_loss: 0.3534\n",
      "Epoch 22/100\n",
      "687/687 [==============================] - 0s 152us/step - loss: 0.4350 - val_loss: 0.3568\n",
      "Epoch 23/100\n",
      "687/687 [==============================] - 0s 131us/step - loss: 0.4002 - val_loss: 0.3764\n",
      "Epoch 24/100\n",
      "687/687 [==============================] - 0s 139us/step - loss: 0.3846 - val_loss: 0.3599\n",
      "Epoch 25/100\n",
      "687/687 [==============================] - 0s 128us/step - loss: 0.4011 - val_loss: 0.3757\n",
      "Epoch 26/100\n",
      "687/687 [==============================] - 0s 122us/step - loss: 0.3806 - val_loss: 0.4614\n",
      "Epoch 27/100\n",
      "687/687 [==============================] - 0s 163us/step - loss: 0.3940 - val_loss: 0.3684\n",
      "Epoch 28/100\n",
      "687/687 [==============================] - 0s 170us/step - loss: 0.4023 - val_loss: 0.3736\n",
      "Epoch 29/100\n",
      "687/687 [==============================] - 0s 154us/step - loss: 0.4131 - val_loss: 0.3749\n",
      "Epoch 30/100\n",
      "687/687 [==============================] - 0s 149us/step - loss: 0.4131 - val_loss: 0.3494\n",
      "Epoch 31/100\n",
      "687/687 [==============================] - 0s 146us/step - loss: 0.3904 - val_loss: 0.3494\n",
      "Epoch 32/100\n",
      "687/687 [==============================] - 0s 175us/step - loss: 0.3838 - val_loss: 0.3839\n",
      "Epoch 33/100\n",
      "687/687 [==============================] - 0s 133us/step - loss: 0.4039 - val_loss: 0.3781\n",
      "Epoch 34/100\n",
      "687/687 [==============================] - 0s 162us/step - loss: 0.3885 - val_loss: 0.4093\n",
      "Epoch 35/100\n",
      "687/687 [==============================] - 0s 153us/step - loss: 0.3775 - val_loss: 0.4110\n",
      "Epoch 36/100\n",
      "687/687 [==============================] - 0s 145us/step - loss: 0.3712 - val_loss: 0.3559\n",
      "Epoch 37/100\n",
      "687/687 [==============================] - 0s 145us/step - loss: 0.3684 - val_loss: 0.3609\n",
      "Epoch 38/100\n",
      "687/687 [==============================] - 0s 123us/step - loss: 0.3617 - val_loss: 0.3648\n",
      "Epoch 39/100\n",
      "687/687 [==============================] - 0s 163us/step - loss: 0.3903 - val_loss: 0.3572\n",
      "Epoch 40/100\n",
      "687/687 [==============================] - 0s 135us/step - loss: 0.3587 - val_loss: 0.4043\n",
      "Epoch 41/100\n",
      "687/687 [==============================] - 0s 142us/step - loss: 0.3803 - val_loss: 0.3527\n",
      "Epoch 42/100\n",
      "687/687 [==============================] - 0s 145us/step - loss: 0.3686 - val_loss: 0.3616\n",
      "Epoch 43/100\n",
      "687/687 [==============================] - 0s 137us/step - loss: 0.3745 - val_loss: 0.3544\n",
      "Epoch 44/100\n",
      "687/687 [==============================] - 0s 156us/step - loss: 0.3654 - val_loss: 0.3346\n",
      "Epoch 45/100\n",
      "687/687 [==============================] - 0s 165us/step - loss: 0.3668 - val_loss: 0.3690\n",
      "Epoch 46/100\n",
      "687/687 [==============================] - 0s 154us/step - loss: 0.3860 - val_loss: 0.3382\n",
      "Epoch 47/100\n",
      "687/687 [==============================] - 0s 188us/step - loss: 0.3433 - val_loss: 0.3298\n",
      "Epoch 48/100\n",
      "687/687 [==============================] - 0s 182us/step - loss: 0.3468 - val_loss: 0.3407\n",
      "Epoch 49/100\n",
      "687/687 [==============================] - 0s 159us/step - loss: 0.3597 - val_loss: 0.3723\n",
      "Epoch 50/100\n",
      "687/687 [==============================] - 0s 169us/step - loss: 0.3593 - val_loss: 0.3350\n",
      "Epoch 51/100\n",
      "687/687 [==============================] - 0s 154us/step - loss: 0.3457 - val_loss: 0.3539\n",
      "Epoch 52/100\n",
      "687/687 [==============================] - 0s 158us/step - loss: 0.3406 - val_loss: 0.3336\n",
      "Epoch 53/100\n",
      "687/687 [==============================] - 0s 165us/step - loss: 0.3599 - val_loss: 0.3345\n",
      "Epoch 54/100\n",
      "687/687 [==============================] - 0s 151us/step - loss: 0.3628 - val_loss: 0.3412\n",
      "Epoch 55/100\n",
      "687/687 [==============================] - 0s 163us/step - loss: 0.3693 - val_loss: 0.3533\n",
      "Epoch 56/100\n",
      "687/687 [==============================] - 0s 160us/step - loss: 0.3400 - val_loss: 0.3559\n",
      "Epoch 57/100\n",
      "687/687 [==============================] - 0s 142us/step - loss: 0.3406 - val_loss: 0.3522\n",
      "Epoch 58/100\n",
      "687/687 [==============================] - 0s 149us/step - loss: 0.3543 - val_loss: 0.3452\n",
      "Epoch 59/100\n",
      "687/687 [==============================] - 0s 144us/step - loss: 0.3471 - val_loss: 0.3580\n",
      "Epoch 60/100\n",
      "687/687 [==============================] - 0s 168us/step - loss: 0.3396 - val_loss: 0.3534\n",
      "Epoch 61/100\n",
      "687/687 [==============================] - 0s 166us/step - loss: 0.3739 - val_loss: 0.4088\n",
      "Epoch 62/100\n",
      "687/687 [==============================] - 0s 137us/step - loss: 0.3593 - val_loss: 0.3338\n",
      "Epoch 63/100\n",
      "687/687 [==============================] - 0s 142us/step - loss: 0.3397 - val_loss: 0.3332\n",
      "Epoch 64/100\n",
      "687/687 [==============================] - 0s 140us/step - loss: 0.3556 - val_loss: 0.3687\n",
      "Epoch 65/100\n",
      "687/687 [==============================] - 0s 134us/step - loss: 0.3437 - val_loss: 0.3601\n",
      "Epoch 66/100\n",
      "687/687 [==============================] - 0s 123us/step - loss: 0.3339 - val_loss: 0.3431\n",
      "Epoch 67/100\n",
      "687/687 [==============================] - 0s 120us/step - loss: 0.3233 - val_loss: 0.3423\n",
      "Epoch 68/100\n",
      "687/687 [==============================] - 0s 126us/step - loss: 0.3530 - val_loss: 0.3459\n",
      "Epoch 69/100\n",
      "687/687 [==============================] - 0s 172us/step - loss: 0.3329 - val_loss: 0.3366\n",
      "Epoch 70/100\n",
      "687/687 [==============================] - 0s 156us/step - loss: 0.3337 - val_loss: 0.3407\n",
      "Epoch 71/100\n",
      "687/687 [==============================] - 0s 147us/step - loss: 0.3384 - val_loss: 0.3311\n",
      "Epoch 72/100\n",
      "687/687 [==============================] - 0s 150us/step - loss: 0.3419 - val_loss: 0.3250\n",
      "Epoch 73/100\n",
      "687/687 [==============================] - 0s 148us/step - loss: 0.3419 - val_loss: 0.3308\n",
      "Epoch 74/100\n",
      "687/687 [==============================] - 0s 165us/step - loss: 0.3359 - val_loss: 0.3508\n",
      "Epoch 75/100\n",
      "687/687 [==============================] - 0s 149us/step - loss: 0.3309 - val_loss: 0.3230\n",
      "Epoch 76/100\n",
      "687/687 [==============================] - 0s 175us/step - loss: 0.3234 - val_loss: 0.3751\n",
      "Epoch 77/100\n",
      "687/687 [==============================] - 0s 135us/step - loss: 0.3533 - val_loss: 0.3481\n",
      "Epoch 78/100\n",
      "687/687 [==============================] - 0s 162us/step - loss: 0.3306 - val_loss: 0.3280\n",
      "Epoch 79/100\n"
     ]
    },
    {
     "name": "stdout",
     "output_type": "stream",
     "text": [
      "687/687 [==============================] - 0s 140us/step - loss: 0.3350 - val_loss: 0.3306\n",
      "Epoch 80/100\n",
      "687/687 [==============================] - 0s 168us/step - loss: 0.3282 - val_loss: 0.3328\n",
      "Epoch 81/100\n",
      "687/687 [==============================] - 0s 168us/step - loss: 0.3151 - val_loss: 0.3323\n",
      "Epoch 82/100\n",
      "687/687 [==============================] - 0s 126us/step - loss: 0.3266 - val_loss: 0.3457\n",
      "Epoch 83/100\n",
      "687/687 [==============================] - 0s 125us/step - loss: 0.3478 - val_loss: 0.3240\n",
      "Epoch 84/100\n",
      "687/687 [==============================] - 0s 134us/step - loss: 0.3252 - val_loss: 0.3143\n",
      "Epoch 85/100\n",
      "687/687 [==============================] - 0s 135us/step - loss: 0.3134 - val_loss: 0.3469\n",
      "Epoch 86/100\n",
      "687/687 [==============================] - 0s 134us/step - loss: 0.3413 - val_loss: 0.3173\n",
      "Epoch 87/100\n",
      "687/687 [==============================] - 0s 171us/step - loss: 0.3076 - val_loss: 0.3490\n",
      "Epoch 88/100\n",
      "687/687 [==============================] - 0s 163us/step - loss: 0.3428 - val_loss: 0.3430\n",
      "Epoch 89/100\n",
      "687/687 [==============================] - 0s 164us/step - loss: 0.3341 - val_loss: 0.3228\n",
      "Epoch 90/100\n",
      "687/687 [==============================] - 0s 150us/step - loss: 0.3191 - val_loss: 0.3296\n",
      "Epoch 91/100\n",
      "687/687 [==============================] - 0s 138us/step - loss: 0.3318 - val_loss: 0.3427\n",
      "Epoch 92/100\n",
      "687/687 [==============================] - 0s 176us/step - loss: 0.3073 - val_loss: 0.3537\n",
      "Epoch 93/100\n",
      "687/687 [==============================] - 0s 149us/step - loss: 0.3399 - val_loss: 0.3055\n",
      "Epoch 94/100\n",
      "687/687 [==============================] - 0s 173us/step - loss: 0.3382 - val_loss: 0.3061\n",
      "Epoch 95/100\n",
      "687/687 [==============================] - 0s 151us/step - loss: 0.3293 - val_loss: 0.3086\n",
      "Epoch 96/100\n",
      "687/687 [==============================] - 0s 184us/step - loss: 0.3352 - val_loss: 0.3303\n",
      "Epoch 97/100\n",
      "687/687 [==============================] - 0s 145us/step - loss: 0.2973 - val_loss: 0.3308\n",
      "Epoch 98/100\n",
      "687/687 [==============================] - 0s 151us/step - loss: 0.3289 - val_loss: 0.3354\n",
      "Epoch 99/100\n",
      "687/687 [==============================] - 0s 135us/step - loss: 0.3146 - val_loss: 0.3273\n",
      "Epoch 100/100\n",
      "687/687 [==============================] - 0s 140us/step - loss: 0.3007 - val_loss: 0.3328\n"
     ]
    }
   ],
   "source": [
    "# Fit the model and save the history\n",
    "history = model.fit([elevation[:-test_n], map_coords[:-test_n],wind_dir[:-test_n],wind_spd[:-test_n],precip[:-test_n], temp[:-test_n], min_temp[:-test_n], max_temp[:-test_n], clouds[:-test_n], ghi[:-test_n], rh[:-test_n]], is_vineyard[:-test_n], batch_size = batch_size, epochs=epochs, validation_split = 0.2)"
   ]
  },
  {
   "cell_type": "markdown",
   "metadata": {},
   "source": [
    "## Track performance of each model run during experimentation\n",
    "\n",
    "First we'll track the best validation loss value along with the epoch we achieved that low loss on."
   ]
  },
  {
   "cell_type": "code",
   "execution_count": 100,
   "metadata": {},
   "outputs": [],
   "source": [
    "#Convert the history of the model run across epochs to lists\n",
    "loss_results = history.history.get('loss')\n",
    "val_loss_results = history.history.get('val_loss')\n",
    "\n",
    "best_loss = 10 #set it to an arbitrary high loss number\n",
    "best_epoch = 0\n",
    "\n",
    "i = 0\n",
    "while i < len(val_loss_results):\n",
    "    #Store the best loss value across epochs\n",
    "    if (val_loss_results[i] < best_loss):\n",
    "        best_loss = val_loss_results[i]\n",
    "        best_epoch = i + 1 # we add 1 since epoch start from an index of 1 instead of 0\n",
    "        \n",
    "    i = i +1"
   ]
  },
  {
   "cell_type": "markdown",
   "metadata": {},
   "source": [
    "## Plot training loss vs validation loss over epochs"
   ]
  },
  {
   "cell_type": "code",
   "execution_count": 101,
   "metadata": {},
   "outputs": [
    {
     "data": {
      "image/png": "[encoded data removed]",
      "text/plain": [
       "<matplotlib.figure.Figure at 0x1508ea668>"
      ]
     },
     "metadata": {},
     "output_type": "display_data"
    }
   ],
   "source": [
    "#Plot performance over epochs\n",
    "from matplotlib import pyplot as plt\n",
    "\n",
    "#Create ticks on x axis from 0 through the number of epochs\n",
    "x = np.arange(0,epochs)\n",
    "\n",
    "lines = [loss_results,val_loss_results]\n",
    "colors  = ['teal','coral']\n",
    "labels  = ['Training loss','Validation loss']\n",
    "\n",
    "# Adjust default plot size\n",
    "plt.figure(figsize=(16,5))\n",
    "\n",
    "for i,c,l in zip(lines,colors,labels):  \n",
    "    plt.plot(x,i,c,label='l')\n",
    "    plt.legend(labels)\n",
    "               \n",
    "plt.show()"
   ]
  },
  {
   "cell_type": "markdown",
   "metadata": {},
   "source": [
    "Print results of all runs to help guide future model experimentation"
   ]
  },
  {
   "cell_type": "code",
   "execution_count": 102,
   "metadata": {},
   "outputs": [
    {
     "name": "stdout",
     "output_type": "stream",
     "text": [
      "BestLoss Epoch  Dropout        KerReg        ActReg HidDense HidAct   FinAct Batch                         Vars\n",
      " 0.3355    99     0.45  1.000000e-07  1.000000e-07      100    elu  sigmoid   128      x0,x1,x2,x4,x6,x7,x8,x9\n",
      " 0.3181    91     0.45  1.000000e-07  1.000000e-07      100    elu  sigmoid   128  x0,x1,x2,x4,x6,x7,x8,x9,x10\n",
      " 0.3210    90     0.45  1.000000e-07  1.000000e-07      100    elu  sigmoid   128     x0,x2,x4,x6,x7,x8,x9,x10\n",
      " 0.3307    93     0.45  1.000000e-07  1.000000e-07      100    elu  sigmoid   100  x0,x1,x2,x4,x6,x7,x8,x9,x10\n",
      " 0.3321    86     0.45  1.000000e-07  1.000000e-07      100    elu  sigmoid   150  x0,x1,x2,x4,x6,x7,x8,x9,x10\n",
      " 0.3141   100     0.40  1.000000e-07  1.000000e-07      100    elu  sigmoid   128  x0,x1,x2,x4,x6,x7,x8,x9,x10\n",
      " 0.3442    11     0.35  1.000000e-07  1.000000e-07      100    elu  sigmoid   128  x0,x1,x2,x4,x6,x7,x8,x9,x10\n",
      " 0.3268   180     0.42  1.000000e-07  1.000000e-07      100    elu  sigmoid   128  x0,x1,x2,x4,x6,x7,x8,x9,x10\n",
      " 0.3203    58     0.38  1.000000e-07  1.000000e-07      100    elu  sigmoid   128  x0,x1,x2,x4,x6,x7,x8,x9,x10\n",
      " 0.3055    93     0.40  1.000000e-07  1.000000e-07      100    elu  sigmoid   128  x0,x1,x2,x4,x6,x7,x8,x9,x10\n"
     ]
    }
   ],
   "source": [
    "#Save model performance to dataframe\n",
    "model_perf_df.loc[len(model_perf_df)] = [format(best_loss, '.4f'), best_epoch, hidden_drop_out, kern_regularizer, act_regularizer, hidden_dense_size, hidden_activation, final_activation, batch_size, vars_used_str] \n",
    "\n",
    "#Print dataframe with model performance\n",
    "print(model_perf_df.to_string(index=False))"
   ]
  },
  {
   "cell_type": "markdown",
   "metadata": {},
   "source": [
    "## Test model against test set\n",
    "Test model against test set by rounding the predictions which are decimals to True / False values. Then, create an array which tracks whether or not the model predicted correctly predicted whether or not a location was a vineyard or not. "
   ]
  },
  {
   "cell_type": "code",
   "execution_count": 103,
   "metadata": {},
   "outputs": [
    {
     "name": "stdout",
     "output_type": "stream",
     "text": [
      "40/40 [==============================] - 1s 25ms/step\n"
     ]
    }
   ],
   "source": [
    "#get predictions with probability values\n",
    "y_hat = model.predict([elevation[-test_n:], map_coords[-test_n:],wind_dir[-test_n:],wind_spd[-test_n:],precip[-test_n:], temp[-test_n:], min_temp[-test_n:], max_temp[-test_n:], clouds[-test_n:], ghi[-test_n:], rh[-test_n:]], verbose=1)\n",
    "\n",
    "#Round probabilities to 1s or 0s to test the accuracy of our train \n",
    "accuracy = np.array([])\n",
    "i = 0\n",
    "while i < len(y_hat):\n",
    "    rounded_predict = round(y_hat[i][0])\n",
    "    \n",
    "    #Was the prediction correct?\n",
    "    correct = rounded_predict == is_vineyard[-test_n:][i]\n",
    "    accuracy = np.append(accuracy, correct)\n",
    "    \n",
    "    i = i +1"
   ]
  },
  {
   "cell_type": "markdown",
   "metadata": {},
   "source": [
    "Percent of locations classified correctly in our test set..."
   ]
  },
  {
   "cell_type": "code",
   "execution_count": 104,
   "metadata": {},
   "outputs": [
    {
     "name": "stdout",
     "output_type": "stream",
     "text": [
      "Correct responses = 90.0%\n"
     ]
    }
   ],
   "source": [
    "print('Correct responses = ' + str(np.mean(accuracy)*100) + '%')"
   ]
  }
 ],
 "metadata": {
  "kernelspec": {
   "display_name": "Python 3",
   "language": "python",
   "name": "python3"
  },
  "language_info": {
   "codemirror_mode": {
    "name": "ipython",
    "version": 3
   },
   "file_extension": ".py",
   "mimetype": "text/x-python",
   "name": "python",
   "nbconvert_exporter": "python",
   "pygments_lexer": "ipython3",
   "version": "3.6.0"
  }
 },
 "nbformat": 4,
 "nbformat_minor": 2
}
